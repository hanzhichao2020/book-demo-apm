{
 "cells": [
  {
   "cell_type": "markdown",
   "id": "4b3dc54a",
   "metadata": {},
   "source": [
    "\n",
    "## Introduction to Beta\n",
    "\n",
    "\n",
    "\n",
    "\n",
    "\n",
    "$$\\beta_i = \\frac{\\mathrm{Cov}(R_i, R_m)}{\\mathrm{Var}(R_m)}$$\n",
    "\n"
   ]
  },
  {
   "cell_type": "code",
   "execution_count": 1,
   "id": "0c5e45c4",
   "metadata": {},
   "outputs": [],
   "source": [
    "import yfinance as yf\n",
    "\n",
    "yf.set_config(proxy=\"http://127.0.0.1:8118\") "
   ]
  },
  {
   "cell_type": "code",
   "execution_count": 10,
   "id": "1c96ab27",
   "metadata": {},
   "outputs": [
    {
     "data": {
      "text/html": [
       "<pre style=\"white-space:pre;overflow-x:auto;line-height:normal;font-family:Menlo,'DejaVu Sans Mono',consolas,'Courier New',monospace\"><span style=\"font-weight: bold\">{</span>\n",
       "    <span style=\"color: #008000; text-decoration-color: #008000\">'typical_sse_stocks'</span>: <span style=\"font-weight: bold\">[</span>\n",
       "        <span style=\"font-weight: bold\">{</span><span style=\"color: #008000; text-decoration-color: #008000\">'code'</span>: <span style=\"color: #008000; text-decoration-color: #008000\">'601318'</span>, <span style=\"color: #008000; text-decoration-color: #008000\">'name_en'</span>: <span style=\"color: #008000; text-decoration-color: #008000\">'Ping An Insurance'</span>, <span style=\"color: #008000; text-decoration-color: #008000\">'name_cn'</span>: <span style=\"color: #008000; text-decoration-color: #008000\">'中国平安'</span><span style=\"font-weight: bold\">}</span>,\n",
       "        <span style=\"font-weight: bold\">{</span><span style=\"color: #008000; text-decoration-color: #008000\">'code'</span>: <span style=\"color: #008000; text-decoration-color: #008000\">'600519'</span>, <span style=\"color: #008000; text-decoration-color: #008000\">'name_en'</span>: <span style=\"color: #008000; text-decoration-color: #008000\">'Kweichow Moutai'</span>, <span style=\"color: #008000; text-decoration-color: #008000\">'name_cn'</span>: <span style=\"color: #008000; text-decoration-color: #008000\">'贵州茅台'</span><span style=\"font-weight: bold\">}</span>,\n",
       "        <span style=\"font-weight: bold\">{</span><span style=\"color: #008000; text-decoration-color: #008000\">'code'</span>: <span style=\"color: #008000; text-decoration-color: #008000\">'601398'</span>, <span style=\"color: #008000; text-decoration-color: #008000\">'name_en'</span>: <span style=\"color: #008000; text-decoration-color: #008000\">'Industrial and Commercial Bank of China (ICBC)'</span>, <span style=\"color: #008000; text-decoration-color: #008000\">'name_cn'</span>: <span style=\"color: #008000; text-decoration-color: #008000\">'工商银行'</span><span style=\"font-weight: bold\">}</span>,\n",
       "        <span style=\"font-weight: bold\">{</span><span style=\"color: #008000; text-decoration-color: #008000\">'code'</span>: <span style=\"color: #008000; text-decoration-color: #008000\">'601857'</span>, <span style=\"color: #008000; text-decoration-color: #008000\">'name_en'</span>: <span style=\"color: #008000; text-decoration-color: #008000\">'PetroChina'</span>, <span style=\"color: #008000; text-decoration-color: #008000\">'name_cn'</span>: <span style=\"color: #008000; text-decoration-color: #008000\">'中国石油'</span><span style=\"font-weight: bold\">}</span>,\n",
       "        <span style=\"font-weight: bold\">{</span><span style=\"color: #008000; text-decoration-color: #008000\">'code'</span>: <span style=\"color: #008000; text-decoration-color: #008000\">'600036'</span>, <span style=\"color: #008000; text-decoration-color: #008000\">'name_en'</span>: <span style=\"color: #008000; text-decoration-color: #008000\">'China Merchants Bank'</span>, <span style=\"color: #008000; text-decoration-color: #008000\">'name_cn'</span>: <span style=\"color: #008000; text-decoration-color: #008000\">'招商银行'</span><span style=\"font-weight: bold\">}</span>,\n",
       "        <span style=\"font-weight: bold\">{</span><span style=\"color: #008000; text-decoration-color: #008000\">'code'</span>: <span style=\"color: #008000; text-decoration-color: #008000\">'600050'</span>, <span style=\"color: #008000; text-decoration-color: #008000\">'name_en'</span>: <span style=\"color: #008000; text-decoration-color: #008000\">'China Unicom'</span>, <span style=\"color: #008000; text-decoration-color: #008000\">'name_cn'</span>: <span style=\"color: #008000; text-decoration-color: #008000\">'中国联通'</span><span style=\"font-weight: bold\">}</span>,\n",
       "        <span style=\"font-weight: bold\">{</span><span style=\"color: #008000; text-decoration-color: #008000\">'code'</span>: <span style=\"color: #008000; text-decoration-color: #008000\">'601088'</span>, <span style=\"color: #008000; text-decoration-color: #008000\">'name_en'</span>: <span style=\"color: #008000; text-decoration-color: #008000\">'China Shenhua Energy'</span>, <span style=\"color: #008000; text-decoration-color: #008000\">'name_cn'</span>: <span style=\"color: #008000; text-decoration-color: #008000\">'中国神华'</span><span style=\"font-weight: bold\">}</span>,\n",
       "        <span style=\"font-weight: bold\">{</span><span style=\"color: #008000; text-decoration-color: #008000\">'code'</span>: <span style=\"color: #008000; text-decoration-color: #008000\">'600887'</span>, <span style=\"color: #008000; text-decoration-color: #008000\">'name_en'</span>: <span style=\"color: #008000; text-decoration-color: #008000\">'Yili Industrial Group'</span>, <span style=\"color: #008000; text-decoration-color: #008000\">'name_cn'</span>: <span style=\"color: #008000; text-decoration-color: #008000\">'伊利股份'</span><span style=\"font-weight: bold\">}</span>,\n",
       "        <span style=\"font-weight: bold\">{</span><span style=\"color: #008000; text-decoration-color: #008000\">'code'</span>: <span style=\"color: #008000; text-decoration-color: #008000\">'600030'</span>, <span style=\"color: #008000; text-decoration-color: #008000\">'name_en'</span>: <span style=\"color: #008000; text-decoration-color: #008000\">'CITIC Securities'</span>, <span style=\"color: #008000; text-decoration-color: #008000\">'name_cn'</span>: <span style=\"color: #008000; text-decoration-color: #008000\">'中信证券'</span><span style=\"font-weight: bold\">}</span>,\n",
       "        <span style=\"font-weight: bold\">{</span><span style=\"color: #008000; text-decoration-color: #008000\">'code'</span>: <span style=\"color: #008000; text-decoration-color: #008000\">'600048'</span>, <span style=\"color: #008000; text-decoration-color: #008000\">'name_en'</span>: <span style=\"color: #008000; text-decoration-color: #008000\">'Poly Developments and Holdings'</span>, <span style=\"color: #008000; text-decoration-color: #008000\">'name_cn'</span>: <span style=\"color: #008000; text-decoration-color: #008000\">'保利发展'</span><span style=\"font-weight: bold\">}</span>\n",
       "    <span style=\"font-weight: bold\">]</span>,\n",
       "    <span style=\"color: #008000; text-decoration-color: #008000\">'exchange_note'</span>: <span style=\"color: #008000; text-decoration-color: #008000\">\"Codes starting with '60' are Shanghai Stock Exchange (SSE) A-shares.\"</span>\n",
       "<span style=\"font-weight: bold\">}</span>\n",
       "</pre>\n"
      ],
      "text/plain": [
       "\u001b[1m{\u001b[0m\n",
       "    \u001b[32m'typical_sse_stocks'\u001b[0m: \u001b[1m[\u001b[0m\n",
       "        \u001b[1m{\u001b[0m\u001b[32m'code'\u001b[0m: \u001b[32m'601318'\u001b[0m, \u001b[32m'name_en'\u001b[0m: \u001b[32m'Ping An Insurance'\u001b[0m, \u001b[32m'name_cn'\u001b[0m: \u001b[32m'中国平安'\u001b[0m\u001b[1m}\u001b[0m,\n",
       "        \u001b[1m{\u001b[0m\u001b[32m'code'\u001b[0m: \u001b[32m'600519'\u001b[0m, \u001b[32m'name_en'\u001b[0m: \u001b[32m'Kweichow Moutai'\u001b[0m, \u001b[32m'name_cn'\u001b[0m: \u001b[32m'贵州茅台'\u001b[0m\u001b[1m}\u001b[0m,\n",
       "        \u001b[1m{\u001b[0m\u001b[32m'code'\u001b[0m: \u001b[32m'601398'\u001b[0m, \u001b[32m'name_en'\u001b[0m: \u001b[32m'Industrial and Commercial Bank of China \u001b[0m\u001b[32m(\u001b[0m\u001b[32mICBC\u001b[0m\u001b[32m)\u001b[0m\u001b[32m'\u001b[0m, \u001b[32m'name_cn'\u001b[0m: \u001b[32m'工商银行'\u001b[0m\u001b[1m}\u001b[0m,\n",
       "        \u001b[1m{\u001b[0m\u001b[32m'code'\u001b[0m: \u001b[32m'601857'\u001b[0m, \u001b[32m'name_en'\u001b[0m: \u001b[32m'PetroChina'\u001b[0m, \u001b[32m'name_cn'\u001b[0m: \u001b[32m'中国石油'\u001b[0m\u001b[1m}\u001b[0m,\n",
       "        \u001b[1m{\u001b[0m\u001b[32m'code'\u001b[0m: \u001b[32m'600036'\u001b[0m, \u001b[32m'name_en'\u001b[0m: \u001b[32m'China Merchants Bank'\u001b[0m, \u001b[32m'name_cn'\u001b[0m: \u001b[32m'招商银行'\u001b[0m\u001b[1m}\u001b[0m,\n",
       "        \u001b[1m{\u001b[0m\u001b[32m'code'\u001b[0m: \u001b[32m'600050'\u001b[0m, \u001b[32m'name_en'\u001b[0m: \u001b[32m'China Unicom'\u001b[0m, \u001b[32m'name_cn'\u001b[0m: \u001b[32m'中国联通'\u001b[0m\u001b[1m}\u001b[0m,\n",
       "        \u001b[1m{\u001b[0m\u001b[32m'code'\u001b[0m: \u001b[32m'601088'\u001b[0m, \u001b[32m'name_en'\u001b[0m: \u001b[32m'China Shenhua Energy'\u001b[0m, \u001b[32m'name_cn'\u001b[0m: \u001b[32m'中国神华'\u001b[0m\u001b[1m}\u001b[0m,\n",
       "        \u001b[1m{\u001b[0m\u001b[32m'code'\u001b[0m: \u001b[32m'600887'\u001b[0m, \u001b[32m'name_en'\u001b[0m: \u001b[32m'Yili Industrial Group'\u001b[0m, \u001b[32m'name_cn'\u001b[0m: \u001b[32m'伊利股份'\u001b[0m\u001b[1m}\u001b[0m,\n",
       "        \u001b[1m{\u001b[0m\u001b[32m'code'\u001b[0m: \u001b[32m'600030'\u001b[0m, \u001b[32m'name_en'\u001b[0m: \u001b[32m'CITIC Securities'\u001b[0m, \u001b[32m'name_cn'\u001b[0m: \u001b[32m'中信证券'\u001b[0m\u001b[1m}\u001b[0m,\n",
       "        \u001b[1m{\u001b[0m\u001b[32m'code'\u001b[0m: \u001b[32m'600048'\u001b[0m, \u001b[32m'name_en'\u001b[0m: \u001b[32m'Poly Developments and Holdings'\u001b[0m, \u001b[32m'name_cn'\u001b[0m: \u001b[32m'保利发展'\u001b[0m\u001b[1m}\u001b[0m\n",
       "    \u001b[1m]\u001b[0m,\n",
       "    \u001b[32m'exchange_note'\u001b[0m: \u001b[32m\"Codes starting with '60' are Shanghai Stock Exchange \u001b[0m\u001b[32m(\u001b[0m\u001b[32mSSE\u001b[0m\u001b[32m)\u001b[0m\u001b[32m A-shares.\"\u001b[0m\n",
       "\u001b[1m}\u001b[0m\n"
      ]
     },
     "metadata": {},
     "output_type": "display_data"
    }
   ],
   "source": [
    "import json\n",
    "from rich import print\n",
    "\n",
    "\n",
    "with open('stocks.json') as fh:\n",
    "    data = json.load(fh)\n",
    "print(data)\n",
    "\n"
   ]
  },
  {
   "cell_type": "code",
   "execution_count": null,
   "id": "b0fde9aa",
   "metadata": {},
   "outputs": [],
   "source": []
  },
  {
   "cell_type": "code",
   "execution_count": 11,
   "id": "0081780a",
   "metadata": {},
   "outputs": [
    {
     "data": {
      "text/plain": [
       "['601318.SS',\n",
       " '600519.SS',\n",
       " '601398.SS',\n",
       " '601857.SS',\n",
       " '600036.SS',\n",
       " '600050.SS',\n",
       " '601088.SS',\n",
       " '600887.SS',\n",
       " '600030.SS',\n",
       " '600048.SS',\n",
       " '000001.SS']"
      ]
     },
     "execution_count": 11,
     "metadata": {},
     "output_type": "execute_result"
    }
   ],
   "source": [
    "symbols = [e['code']+'.SS' for e in data['typical_sse_stocks']] + ['000001.SS']\n",
    "symbols"
   ]
  },
  {
   "cell_type": "code",
   "execution_count": 12,
   "id": "65057b22",
   "metadata": {},
   "outputs": [
    {
     "name": "stderr",
     "output_type": "stream",
     "text": [
      "[*********************100%***********************]  11 of 11 completed\n"
     ]
    },
    {
     "data": {
      "text/html": [
       "<div>\n",
       "<style scoped>\n",
       "    .dataframe tbody tr th:only-of-type {\n",
       "        vertical-align: middle;\n",
       "    }\n",
       "\n",
       "    .dataframe tbody tr th {\n",
       "        vertical-align: top;\n",
       "    }\n",
       "\n",
       "    .dataframe thead tr th {\n",
       "        text-align: left;\n",
       "    }\n",
       "\n",
       "    .dataframe thead tr:last-of-type th {\n",
       "        text-align: right;\n",
       "    }\n",
       "</style>\n",
       "<table border=\"1\" class=\"dataframe\">\n",
       "  <thead>\n",
       "    <tr>\n",
       "      <th>Price</th>\n",
       "      <th colspan=\"10\" halign=\"left\">Adj Close</th>\n",
       "      <th>...</th>\n",
       "      <th colspan=\"10\" halign=\"left\">Volume</th>\n",
       "    </tr>\n",
       "    <tr>\n",
       "      <th>Ticker</th>\n",
       "      <th>000001.SS</th>\n",
       "      <th>600030.SS</th>\n",
       "      <th>600036.SS</th>\n",
       "      <th>600048.SS</th>\n",
       "      <th>600050.SS</th>\n",
       "      <th>600519.SS</th>\n",
       "      <th>600887.SS</th>\n",
       "      <th>601088.SS</th>\n",
       "      <th>601318.SS</th>\n",
       "      <th>601398.SS</th>\n",
       "      <th>...</th>\n",
       "      <th>600030.SS</th>\n",
       "      <th>600036.SS</th>\n",
       "      <th>600048.SS</th>\n",
       "      <th>600050.SS</th>\n",
       "      <th>600519.SS</th>\n",
       "      <th>600887.SS</th>\n",
       "      <th>601088.SS</th>\n",
       "      <th>601318.SS</th>\n",
       "      <th>601398.SS</th>\n",
       "      <th>601857.SS</th>\n",
       "    </tr>\n",
       "    <tr>\n",
       "      <th>Date</th>\n",
       "      <th></th>\n",
       "      <th></th>\n",
       "      <th></th>\n",
       "      <th></th>\n",
       "      <th></th>\n",
       "      <th></th>\n",
       "      <th></th>\n",
       "      <th></th>\n",
       "      <th></th>\n",
       "      <th></th>\n",
       "      <th></th>\n",
       "      <th></th>\n",
       "      <th></th>\n",
       "      <th></th>\n",
       "      <th></th>\n",
       "      <th></th>\n",
       "      <th></th>\n",
       "      <th></th>\n",
       "      <th></th>\n",
       "      <th></th>\n",
       "      <th></th>\n",
       "    </tr>\n",
       "  </thead>\n",
       "  <tbody>\n",
       "    <tr>\n",
       "      <th>2025-09-24</th>\n",
       "      <td>3853.642090</td>\n",
       "      <td>28.690001</td>\n",
       "      <td>41.320000</td>\n",
       "      <td>7.66</td>\n",
       "      <td>5.48</td>\n",
       "      <td>1442.000000</td>\n",
       "      <td>27.410000</td>\n",
       "      <td>38.950001</td>\n",
       "      <td>55.290001</td>\n",
       "      <td>7.47</td>\n",
       "      <td>...</td>\n",
       "      <td>155819804</td>\n",
       "      <td>64389951</td>\n",
       "      <td>146177628</td>\n",
       "      <td>298152931</td>\n",
       "      <td>3074350</td>\n",
       "      <td>34535229</td>\n",
       "      <td>28500609</td>\n",
       "      <td>50317433</td>\n",
       "      <td>514206919</td>\n",
       "      <td>139825895</td>\n",
       "    </tr>\n",
       "    <tr>\n",
       "      <th>2025-09-25</th>\n",
       "      <td>3853.302002</td>\n",
       "      <td>28.709999</td>\n",
       "      <td>40.820000</td>\n",
       "      <td>7.66</td>\n",
       "      <td>5.45</td>\n",
       "      <td>1439.000000</td>\n",
       "      <td>26.969999</td>\n",
       "      <td>38.720001</td>\n",
       "      <td>55.090000</td>\n",
       "      <td>7.38</td>\n",
       "      <td>...</td>\n",
       "      <td>132806322</td>\n",
       "      <td>66694887</td>\n",
       "      <td>142392293</td>\n",
       "      <td>240078271</td>\n",
       "      <td>3386973</td>\n",
       "      <td>76402476</td>\n",
       "      <td>19818486</td>\n",
       "      <td>51429616</td>\n",
       "      <td>323722840</td>\n",
       "      <td>101110481</td>\n",
       "    </tr>\n",
       "    <tr>\n",
       "      <th>2025-09-26</th>\n",
       "      <td>3828.105957</td>\n",
       "      <td>28.719999</td>\n",
       "      <td>40.799999</td>\n",
       "      <td>7.72</td>\n",
       "      <td>5.41</td>\n",
       "      <td>1435.000000</td>\n",
       "      <td>27.260000</td>\n",
       "      <td>38.759998</td>\n",
       "      <td>55.220001</td>\n",
       "      <td>7.41</td>\n",
       "      <td>...</td>\n",
       "      <td>126643060</td>\n",
       "      <td>68276667</td>\n",
       "      <td>215922863</td>\n",
       "      <td>216846109</td>\n",
       "      <td>4512071</td>\n",
       "      <td>63875432</td>\n",
       "      <td>21539186</td>\n",
       "      <td>54862187</td>\n",
       "      <td>273359298</td>\n",
       "      <td>109092921</td>\n",
       "    </tr>\n",
       "    <tr>\n",
       "      <th>2025-09-29</th>\n",
       "      <td>3862.531982</td>\n",
       "      <td>30.410000</td>\n",
       "      <td>40.680000</td>\n",
       "      <td>7.72</td>\n",
       "      <td>5.46</td>\n",
       "      <td>1460.859985</td>\n",
       "      <td>27.190001</td>\n",
       "      <td>38.349998</td>\n",
       "      <td>56.009998</td>\n",
       "      <td>7.33</td>\n",
       "      <td>...</td>\n",
       "      <td>593771449</td>\n",
       "      <td>83555055</td>\n",
       "      <td>162946345</td>\n",
       "      <td>285806545</td>\n",
       "      <td>5368403</td>\n",
       "      <td>57659118</td>\n",
       "      <td>32027805</td>\n",
       "      <td>103510992</td>\n",
       "      <td>405003933</td>\n",
       "      <td>157210459</td>\n",
       "    </tr>\n",
       "    <tr>\n",
       "      <th>2025-09-30</th>\n",
       "      <td>3882.777100</td>\n",
       "      <td>29.900000</td>\n",
       "      <td>40.410000</td>\n",
       "      <td>7.86</td>\n",
       "      <td>5.50</td>\n",
       "      <td>1443.989990</td>\n",
       "      <td>27.280001</td>\n",
       "      <td>38.500000</td>\n",
       "      <td>55.110001</td>\n",
       "      <td>7.30</td>\n",
       "      <td>...</td>\n",
       "      <td>295038797</td>\n",
       "      <td>70002520</td>\n",
       "      <td>250893219</td>\n",
       "      <td>316034123</td>\n",
       "      <td>3936362</td>\n",
       "      <td>50527646</td>\n",
       "      <td>23886334</td>\n",
       "      <td>76708187</td>\n",
       "      <td>244567627</td>\n",
       "      <td>167463098</td>\n",
       "    </tr>\n",
       "  </tbody>\n",
       "</table>\n",
       "<p>5 rows × 66 columns</p>\n",
       "</div>"
      ],
      "text/plain": [
       "Price         Adj Close                                            \\\n",
       "Ticker        000001.SS  600030.SS  600036.SS 600048.SS 600050.SS   \n",
       "Date                                                                \n",
       "2025-09-24  3853.642090  28.690001  41.320000      7.66      5.48   \n",
       "2025-09-25  3853.302002  28.709999  40.820000      7.66      5.45   \n",
       "2025-09-26  3828.105957  28.719999  40.799999      7.72      5.41   \n",
       "2025-09-29  3862.531982  30.410000  40.680000      7.72      5.46   \n",
       "2025-09-30  3882.777100  29.900000  40.410000      7.86      5.50   \n",
       "\n",
       "Price                                                               ...  \\\n",
       "Ticker        600519.SS  600887.SS  601088.SS  601318.SS 601398.SS  ...   \n",
       "Date                                                                ...   \n",
       "2025-09-24  1442.000000  27.410000  38.950001  55.290001      7.47  ...   \n",
       "2025-09-25  1439.000000  26.969999  38.720001  55.090000      7.38  ...   \n",
       "2025-09-26  1435.000000  27.260000  38.759998  55.220001      7.41  ...   \n",
       "2025-09-29  1460.859985  27.190001  38.349998  56.009998      7.33  ...   \n",
       "2025-09-30  1443.989990  27.280001  38.500000  55.110001      7.30  ...   \n",
       "\n",
       "Price          Volume                                                      \\\n",
       "Ticker      600030.SS 600036.SS  600048.SS  600050.SS 600519.SS 600887.SS   \n",
       "Date                                                                        \n",
       "2025-09-24  155819804  64389951  146177628  298152931   3074350  34535229   \n",
       "2025-09-25  132806322  66694887  142392293  240078271   3386973  76402476   \n",
       "2025-09-26  126643060  68276667  215922863  216846109   4512071  63875432   \n",
       "2025-09-29  593771449  83555055  162946345  285806545   5368403  57659118   \n",
       "2025-09-30  295038797  70002520  250893219  316034123   3936362  50527646   \n",
       "\n",
       "Price                                                  \n",
       "Ticker     601088.SS  601318.SS  601398.SS  601857.SS  \n",
       "Date                                                   \n",
       "2025-09-24  28500609   50317433  514206919  139825895  \n",
       "2025-09-25  19818486   51429616  323722840  101110481  \n",
       "2025-09-26  21539186   54862187  273359298  109092921  \n",
       "2025-09-29  32027805  103510992  405003933  157210459  \n",
       "2025-09-30  23886334   76708187  244567627  167463098  \n",
       "\n",
       "[5 rows x 66 columns]"
      ]
     },
     "execution_count": 12,
     "metadata": {},
     "output_type": "execute_result"
    }
   ],
   "source": [
    "df = yf.download(\n",
    "        symbols,\n",
    "        period=\"5Y\", auto_adjust=False\n",
    "    )\n",
    "df.tail()"
   ]
  },
  {
   "cell_type": "code",
   "execution_count": 13,
   "id": "1742bcd2",
   "metadata": {},
   "outputs": [
    {
     "data": {
      "text/plain": [
       "Price      Ticker     Date      \n",
       "Adj Close  000001.SS  2020-09-30    3.218052e+03\n",
       "                      2020-10-09    3.272076e+03\n",
       "                      2020-10-12    3.358465e+03\n",
       "                      2020-10-13    3.359750e+03\n",
       "                      2020-10-14    3.340778e+03\n",
       "                                        ...     \n",
       "Volume     601857.SS  2025-09-24    1.398259e+08\n",
       "                      2025-09-25    1.011105e+08\n",
       "                      2025-09-26    1.090929e+08\n",
       "                      2025-09-29    1.572105e+08\n",
       "                      2025-09-30    1.674631e+08\n",
       "Length: 80058, dtype: float64"
      ]
     },
     "execution_count": 13,
     "metadata": {},
     "output_type": "execute_result"
    }
   ],
   "source": [
    "df_unstacked = df.unstack()\n",
    "df_unstacked"
   ]
  },
  {
   "cell_type": "code",
   "execution_count": 14,
   "id": "7ea3c5a8",
   "metadata": {},
   "outputs": [
    {
     "data": {
      "text/plain": [
       "Ticker     Date      \n",
       "000001.SS  2020-09-30    3218.052002\n",
       "           2020-10-09    3272.075928\n",
       "           2020-10-12    3358.465088\n",
       "           2020-10-13    3359.750000\n",
       "           2020-10-14    3340.778076\n",
       "                            ...     \n",
       "601857.SS  2025-09-24       8.130000\n",
       "           2025-09-25       8.140000\n",
       "           2025-09-26       8.160000\n",
       "           2025-09-29       8.170000\n",
       "           2025-09-30       8.060000\n",
       "Length: 13343, dtype: float64"
      ]
     },
     "execution_count": 14,
     "metadata": {},
     "output_type": "execute_result"
    }
   ],
   "source": [
    "ticker_price = df_unstacked.loc['Adj Close']\n",
    "ticker_price"
   ]
  },
  {
   "cell_type": "code",
   "execution_count": 16,
   "id": "a3358ffd",
   "metadata": {},
   "outputs": [
    {
     "data": {
      "text/plain": [
       "symbol     date      \n",
       "000001.SS  2020-09-30    0.000000\n",
       "           2020-10-31    0.002014\n",
       "           2020-11-30    0.051861\n",
       "           2020-12-31    0.023973\n",
       "           2021-01-31    0.002879\n",
       "                           ...   \n",
       "601857.SS  2025-05-31    0.037547\n",
       "           2025-06-30    0.060966\n",
       "           2025-07-31    0.037427\n",
       "           2025-08-31   -0.016911\n",
       "           2025-09-30   -0.051537\n",
       "Name: ret, Length: 671, dtype: float64"
      ]
     },
     "execution_count": 16,
     "metadata": {},
     "output_type": "execute_result"
    }
   ],
   "source": [
    "import pandas as pd\n",
    "\n",
    "ticker_ret = []\n",
    "for symbol in symbols:\n",
    "    ret = ticker_price.loc[symbol].sort_index().pct_change().fillna(0.)\n",
    "    ret = ret.resample('ME').apply(lambda x: (1+x).prod() - 1)\n",
    "    doc = pd.DataFrame({'symbol': symbol, 'ret': ret}, index=ret.index)\n",
    "    doc.reset_index(inplace=True)\n",
    "    doc.columns = ['date', 'symbol', 'ret']\n",
    "    ticker_ret.append(doc)\n",
    "\n",
    "ticker_ret = pd.concat(ticker_ret)\n",
    "ticker_ret.set_index(['symbol', 'date'], inplace=True)\n",
    "ticker_ret.sort_index(inplace=True)\n",
    "ticker_ret = ticker_ret['ret']\n",
    "ticker_ret"
   ]
  },
  {
   "cell_type": "code",
   "execution_count": 17,
   "id": "3eb0b28f",
   "metadata": {},
   "outputs": [
    {
     "data": {
      "text/html": [
       "<pre style=\"white-space:pre;overflow-x:auto;line-height:normal;font-family:Menlo,'DejaVu Sans Mono',consolas,'Courier New',monospace\">Covariance between Kweichow Moutai and Shanghai Composite Index: <span style=\"color: #008080; text-decoration-color: #008080; font-weight: bold\">0.0022085612851726034</span>\n",
       "</pre>\n"
      ],
      "text/plain": [
       "Covariance between Kweichow Moutai and Shanghai Composite Index: \u001b[1;36m0.0022085612851726034\u001b[0m\n"
      ]
     },
     "metadata": {},
     "output_type": "display_data"
    }
   ],
   "source": [
    "# cov between maotai and shanghai composite index\n",
    "cov_maotai_shanghai = ticker_ret.loc[\"600519.SS\"].cov(ticker_ret.loc[\"000001.SS\"])\n",
    "print(f\"Covariance between Kweichow Moutai and Shanghai Composite Index: {cov_maotai_shanghai}\")\n"
   ]
  },
  {
   "cell_type": "code",
   "execution_count": 18,
   "id": "06de651b",
   "metadata": {},
   "outputs": [
    {
     "data": {
      "text/html": [
       "<pre style=\"white-space:pre;overflow-x:auto;line-height:normal;font-family:Menlo,'DejaVu Sans Mono',consolas,'Courier New',monospace\">Variance of Shanghai Composite Index: <span style=\"color: #008080; text-decoration-color: #008080; font-weight: bold\">0.0018543867456467225</span>\n",
       "</pre>\n"
      ],
      "text/plain": [
       "Variance of Shanghai Composite Index: \u001b[1;36m0.0018543867456467225\u001b[0m\n"
      ]
     },
     "metadata": {},
     "output_type": "display_data"
    }
   ],
   "source": [
    "# var of shanghai composite index\n",
    "var_shanghai = ticker_ret.loc[\"000001.SS\"].var()\n",
    "print(f\"Variance of Shanghai Composite Index: {var_shanghai}\")"
   ]
  },
  {
   "cell_type": "code",
   "execution_count": 19,
   "id": "225697bc",
   "metadata": {},
   "outputs": [
    {
     "data": {
      "text/html": [
       "<pre style=\"white-space:pre;overflow-x:auto;line-height:normal;font-family:Menlo,'DejaVu Sans Mono',consolas,'Courier New',monospace\">Covariance between Kweichow Moutai and Shanghai Composite Index over Variance of Shanghai Composite Index: \n",
       "<span style=\"color: #008080; text-decoration-color: #008080; font-weight: bold\">1.1909928122368894</span>\n",
       "</pre>\n"
      ],
      "text/plain": [
       "Covariance between Kweichow Moutai and Shanghai Composite Index over Variance of Shanghai Composite Index: \n",
       "\u001b[1;36m1.1909928122368894\u001b[0m\n"
      ]
     },
     "metadata": {},
     "output_type": "display_data"
    }
   ],
   "source": [
    "# cov over var of shanghai composite index\n",
    "cov_maotai_shanghai_over_var_shanghai = cov_maotai_shanghai / var_shanghai\n",
    "print(f\"Covariance between Kweichow Moutai and Shanghai Composite Index over Variance of Shanghai Composite Index: {cov_maotai_shanghai_over_var_shanghai}\")"
   ]
  },
  {
   "cell_type": "code",
   "execution_count": 20,
   "id": "38934b15",
   "metadata": {},
   "outputs": [
    {
     "data": {
      "text/html": [
       "<div>\n",
       "<style scoped>\n",
       "    .dataframe tbody tr th:only-of-type {\n",
       "        vertical-align: middle;\n",
       "    }\n",
       "\n",
       "    .dataframe tbody tr th {\n",
       "        vertical-align: top;\n",
       "    }\n",
       "\n",
       "    .dataframe thead th {\n",
       "        text-align: right;\n",
       "    }\n",
       "</style>\n",
       "<table border=\"1\" class=\"dataframe\">\n",
       "  <thead>\n",
       "    <tr style=\"text-align: right;\">\n",
       "      <th></th>\n",
       "      <th>code</th>\n",
       "      <th>name</th>\n",
       "      <th>corr</th>\n",
       "      <th>cov</th>\n",
       "      <th>beta_eq</th>\n",
       "      <th>beta_ols</th>\n",
       "      <th>alpha_ols</th>\n",
       "    </tr>\n",
       "  </thead>\n",
       "  <tbody>\n",
       "    <tr>\n",
       "      <th>0</th>\n",
       "      <td>601318</td>\n",
       "      <td>Ping An Insurance</td>\n",
       "      <td>0.671306</td>\n",
       "      <td>0.002374</td>\n",
       "      <td>1.279997</td>\n",
       "      <td>1.279997</td>\n",
       "      <td>-0.003607</td>\n",
       "    </tr>\n",
       "    <tr>\n",
       "      <th>1</th>\n",
       "      <td>600519</td>\n",
       "      <td>Kweichow Moutai</td>\n",
       "      <td>0.614699</td>\n",
       "      <td>0.002209</td>\n",
       "      <td>1.190993</td>\n",
       "      <td>1.190993</td>\n",
       "      <td>-0.001724</td>\n",
       "    </tr>\n",
       "    <tr>\n",
       "      <th>2</th>\n",
       "      <td>601398</td>\n",
       "      <td>Industrial and Commercial Bank of China (ICBC)</td>\n",
       "      <td>0.162490</td>\n",
       "      <td>0.000248</td>\n",
       "      <td>0.133680</td>\n",
       "      <td>0.133680</td>\n",
       "      <td>0.011078</td>\n",
       "    </tr>\n",
       "    <tr>\n",
       "      <th>3</th>\n",
       "      <td>601857</td>\n",
       "      <td>PetroChina</td>\n",
       "      <td>0.244359</td>\n",
       "      <td>0.000905</td>\n",
       "      <td>0.487983</td>\n",
       "      <td>0.487983</td>\n",
       "      <td>0.016814</td>\n",
       "    </tr>\n",
       "    <tr>\n",
       "      <th>4</th>\n",
       "      <td>600036</td>\n",
       "      <td>China Merchants Bank</td>\n",
       "      <td>0.573036</td>\n",
       "      <td>0.002078</td>\n",
       "      <td>1.120571</td>\n",
       "      <td>1.120571</td>\n",
       "      <td>0.004520</td>\n",
       "    </tr>\n",
       "    <tr>\n",
       "      <th>5</th>\n",
       "      <td>600050</td>\n",
       "      <td>China Unicom</td>\n",
       "      <td>0.544914</td>\n",
       "      <td>0.001766</td>\n",
       "      <td>0.952269</td>\n",
       "      <td>0.952269</td>\n",
       "      <td>0.002888</td>\n",
       "    </tr>\n",
       "    <tr>\n",
       "      <th>6</th>\n",
       "      <td>601088</td>\n",
       "      <td>China Shenhua Energy</td>\n",
       "      <td>0.175552</td>\n",
       "      <td>0.000572</td>\n",
       "      <td>0.308473</td>\n",
       "      <td>0.308473</td>\n",
       "      <td>0.021646</td>\n",
       "    </tr>\n",
       "    <tr>\n",
       "      <th>7</th>\n",
       "      <td>600887</td>\n",
       "      <td>Yili Industrial Group</td>\n",
       "      <td>0.616864</td>\n",
       "      <td>0.002020</td>\n",
       "      <td>1.089498</td>\n",
       "      <td>1.089498</td>\n",
       "      <td>-0.004450</td>\n",
       "    </tr>\n",
       "    <tr>\n",
       "      <th>8</th>\n",
       "      <td>600030</td>\n",
       "      <td>CITIC Securities</td>\n",
       "      <td>0.738100</td>\n",
       "      <td>0.002757</td>\n",
       "      <td>1.486866</td>\n",
       "      <td>1.486866</td>\n",
       "      <td>0.000103</td>\n",
       "    </tr>\n",
       "    <tr>\n",
       "      <th>9</th>\n",
       "      <td>600048</td>\n",
       "      <td>Poly Developments and Holdings</td>\n",
       "      <td>0.499198</td>\n",
       "      <td>0.002282</td>\n",
       "      <td>1.230452</td>\n",
       "      <td>1.230452</td>\n",
       "      <td>-0.007775</td>\n",
       "    </tr>\n",
       "  </tbody>\n",
       "</table>\n",
       "</div>"
      ],
      "text/plain": [
       "     code                                            name      corr       cov  \\\n",
       "0  601318                               Ping An Insurance  0.671306  0.002374   \n",
       "1  600519                                 Kweichow Moutai  0.614699  0.002209   \n",
       "2  601398  Industrial and Commercial Bank of China (ICBC)  0.162490  0.000248   \n",
       "3  601857                                      PetroChina  0.244359  0.000905   \n",
       "4  600036                            China Merchants Bank  0.573036  0.002078   \n",
       "5  600050                                    China Unicom  0.544914  0.001766   \n",
       "6  601088                            China Shenhua Energy  0.175552  0.000572   \n",
       "7  600887                           Yili Industrial Group  0.616864  0.002020   \n",
       "8  600030                                CITIC Securities  0.738100  0.002757   \n",
       "9  600048                  Poly Developments and Holdings  0.499198  0.002282   \n",
       "\n",
       "    beta_eq  beta_ols  alpha_ols  \n",
       "0  1.279997  1.279997  -0.003607  \n",
       "1  1.190993  1.190993  -0.001724  \n",
       "2  0.133680  0.133680   0.011078  \n",
       "3  0.487983  0.487983   0.016814  \n",
       "4  1.120571  1.120571   0.004520  \n",
       "5  0.952269  0.952269   0.002888  \n",
       "6  0.308473  0.308473   0.021646  \n",
       "7  1.089498  1.089498  -0.004450  \n",
       "8  1.486866  1.486866   0.000103  \n",
       "9  1.230452  1.230452  -0.007775  "
      ]
     },
     "execution_count": 20,
     "metadata": {},
     "output_type": "execute_result"
    }
   ],
   "source": [
    "import pandas as pd\n",
    "import statsmodels.api as sm\n",
    "\n",
    "\n",
    "docs = []\n",
    "for e in data['typical_sse_stocks']:\n",
    "    code = e['code']\n",
    "    corr = ticker_ret.loc[code+'.SS'].corr(ticker_ret.loc[\"000001.SS\"])\n",
    "    cov = ticker_ret.loc[code+'.SS'].cov(ticker_ret.loc[\"000001.SS\"])\n",
    "    beta = cov / var_shanghai\n",
    "    \n",
    "    ols = sm.OLS(ticker_ret.loc[code+'.SS'], sm.add_constant(ticker_ret.loc[\"000001.SS\"])).fit()\n",
    "\n",
    "    alpha_ols = ols.params['const']\n",
    "    beta_ols = ols.params['ret']\n",
    "    \n",
    "    docs.append({\n",
    "        \"code\": code,\n",
    "        \"name\": e['name_en'],\n",
    "        \"corr\": corr,\n",
    "        \"cov\": cov,\n",
    "        \"beta_eq\": beta,\n",
    "        \"beta_ols\": beta_ols,\n",
    "        \"alpha_ols\": alpha_ols,\n",
    "    })\n",
    "df_stat = pd.DataFrame(docs)\n",
    "df_stat"
   ]
  },
  {
   "cell_type": "code",
   "execution_count": 21,
   "id": "8d238c90",
   "metadata": {},
   "outputs": [
    {
     "data": {
      "image/png": "[encoded data removed]",
      "text/plain": [
       "<Figure size 640x480 with 2 Axes>"
      ]
     },
     "metadata": {},
     "output_type": "display_data"
    }
   ],
   "source": [
    "# plot the heatmap of the correlation matrix\n",
    "import seaborn as sns\n",
    "import matplotlib.pyplot as plt\n",
    "\n",
    "sns.heatmap(df_stat[['corr', 'cov', 'beta_eq', 'beta_ols']].corr(), annot=True, cmap='coolwarm')\n",
    "plt.show()"
   ]
  },
  {
   "cell_type": "markdown",
   "id": "235d2053",
   "metadata": {},
   "source": [
    "$$E(R_i) = R_f + \\beta_i \\times (E(R_m) - R_f)$$"
   ]
  },
  {
   "cell_type": "code",
   "execution_count": 29,
   "id": "c149e6ea",
   "metadata": {},
   "outputs": [
    {
     "data": {
      "application/vnd.jupyter.widget-view+json": {
       "model_id": "300664963ec64ecbbb253212375c8553",
       "version_major": 2,
       "version_minor": 0
      },
      "text/plain": [
       "  0%|          | 0/10 [00:00<?, ?it/s]"
      ]
     },
     "metadata": {},
     "output_type": "display_data"
    },
    {
     "data": {
      "text/html": [
       "<div>\n",
       "<style scoped>\n",
       "    .dataframe tbody tr th:only-of-type {\n",
       "        vertical-align: middle;\n",
       "    }\n",
       "\n",
       "    .dataframe tbody tr th {\n",
       "        vertical-align: top;\n",
       "    }\n",
       "\n",
       "    .dataframe thead th {\n",
       "        text-align: right;\n",
       "    }\n",
       "</style>\n",
       "<table border=\"1\" class=\"dataframe\">\n",
       "  <thead>\n",
       "    <tr style=\"text-align: right;\">\n",
       "      <th></th>\n",
       "      <th>rate</th>\n",
       "      <th>pct_change</th>\n",
       "    </tr>\n",
       "    <tr>\n",
       "      <th>date</th>\n",
       "      <th></th>\n",
       "      <th></th>\n",
       "    </tr>\n",
       "  </thead>\n",
       "  <tbody>\n",
       "    <tr>\n",
       "      <th>2006-10-08</th>\n",
       "      <td>0.026110</td>\n",
       "      <td>0.0000</td>\n",
       "    </tr>\n",
       "    <tr>\n",
       "      <th>2006-10-09</th>\n",
       "      <td>0.026248</td>\n",
       "      <td>0.0138</td>\n",
       "    </tr>\n",
       "    <tr>\n",
       "      <th>2006-10-10</th>\n",
       "      <td>0.026325</td>\n",
       "      <td>0.0077</td>\n",
       "    </tr>\n",
       "    <tr>\n",
       "      <th>2006-10-11</th>\n",
       "      <td>0.026338</td>\n",
       "      <td>0.0013</td>\n",
       "    </tr>\n",
       "    <tr>\n",
       "      <th>2006-10-12</th>\n",
       "      <td>0.026380</td>\n",
       "      <td>0.0042</td>\n",
       "    </tr>\n",
       "  </tbody>\n",
       "</table>\n",
       "</div>"
      ],
      "text/plain": [
       "                rate  pct_change\n",
       "date                            \n",
       "2006-10-08  0.026110      0.0000\n",
       "2006-10-09  0.026248      0.0138\n",
       "2006-10-10  0.026325      0.0077\n",
       "2006-10-11  0.026338      0.0013\n",
       "2006-10-12  0.026380      0.0042"
      ]
     },
     "execution_count": 29,
     "metadata": {},
     "output_type": "execute_result"
    }
   ],
   "source": [
    "import akshare as ak\n",
    "\n",
    "rate_interbank_df = ak.rate_interbank(market=\"上海银行同业拆借市场\", symbol=\"Shibor人民币\", indicator=\"3月\")\n",
    "rate_interbank_df.columns = [\"date\", \"rate\", \"pct_change\"]\n",
    "rate_interbank_df['rate'] /= 100\n",
    "rate_interbank_df['pct_change'] /= 100\n",
    "rate_interbank_df['date'] = pd.to_datetime(rate_interbank_df['date'])\n",
    "rate_interbank_df.set_index(\"date\", inplace=True)\n",
    "rate_interbank_df.head()\n"
   ]
  },
  {
   "cell_type": "code",
   "execution_count": 30,
   "id": "86df0919",
   "metadata": {},
   "outputs": [
    {
     "data": {
      "text/plain": [
       "(Timestamp('2025-09-30 00:00:00'), Timestamp('2020-09-30 00:00:00'))"
      ]
     },
     "execution_count": 30,
     "metadata": {},
     "output_type": "execute_result"
    }
   ],
   "source": [
    "date = ticker_ret.reset_index()['date']\n",
    "date_min = date.min()\n",
    "date_max = date.max()\n",
    "date_max, date_min\n"
   ]
  },
  {
   "cell_type": "code",
   "execution_count": 33,
   "id": "280e1d87",
   "metadata": {},
   "outputs": [
    {
     "data": {
      "text/plain": [
       "date\n",
       "2020-09-30    0.02691\n",
       "2020-10-09    0.02708\n",
       "2020-10-10    0.02715\n",
       "2020-10-12    0.02722\n",
       "2020-10-13    0.02734\n",
       "               ...   \n",
       "2025-09-25    0.01574\n",
       "2025-09-26    0.01576\n",
       "2025-09-28    0.01580\n",
       "2025-09-29    0.01580\n",
       "2025-09-30    0.01580\n",
       "Name: rate, Length: 1248, dtype: float64"
      ]
     },
     "execution_count": 33,
     "metadata": {},
     "output_type": "execute_result"
    }
   ],
   "source": [
    "rf = rate_interbank_df['rate'].loc[date_min.strftime('%Y-%m-%d'):date_max.strftime('%Y-%m-%d')]\n",
    "rf\n"
   ]
  },
  {
   "cell_type": "code",
   "execution_count": 35,
   "id": "39bbd609",
   "metadata": {},
   "outputs": [
    {
     "data": {
      "text/plain": [
       "<Axes: title={'center': 'Risk Free Rate'}, xlabel='date'>"
      ]
     },
     "execution_count": 35,
     "metadata": {},
     "output_type": "execute_result"
    },
    {
     "data": {
      "image/png": "[encoded data removed]",
      "text/plain": [
       "<Figure size 640x480 with 1 Axes>"
      ]
     },
     "metadata": {},
     "output_type": "display_data"
    }
   ],
   "source": [
    "# plot the rf with title \"Risk Free Rate\"\n",
    "rf.plot(title=\"Risk Free Rate\")\n"
   ]
  },
  {
   "cell_type": "code",
   "execution_count": 36,
   "id": "0c714cce",
   "metadata": {},
   "outputs": [
    {
     "data": {
      "text/plain": [
       "np.float64(0.04868943582548346)"
      ]
     },
     "execution_count": 36,
     "metadata": {},
     "output_type": "execute_result"
    }
   ],
   "source": [
    "# rm annual \n",
    "rm = (1+ticker_ret.loc[\"000001.SS\"].mean()) ** 12 - 1\n",
    "rm"
   ]
  },
  {
   "cell_type": "code",
   "execution_count": 40,
   "id": "4066b560",
   "metadata": {},
   "outputs": [],
   "source": [
    "df_stat['expected_return'] = rf.mean() + df_stat['beta_eq'] * (rm - rf.mean())"
   ]
  },
  {
   "cell_type": "code",
   "execution_count": 44,
   "id": "1961a1a8",
   "metadata": {},
   "outputs": [
    {
     "data": {
      "image/png": "[encoded data removed]",
      "text/plain": [
       "<Figure size 640x480 with 1 Axes>"
      ]
     },
     "metadata": {},
     "output_type": "display_data"
    }
   ],
   "source": [
    "# plut expected return based on CAPM and the given beta\n",
    "# y axis = expected return\n",
    "# x axis = beta\n",
    "\n",
    "import matplotlib.pyplot as plt\n",
    "\n",
    "# plot the expected return based on CAPM and the given beta\n",
    "plt.plot(df_stat['beta_eq'], df_stat['expected_return'], '*')\n",
    "# set the y axis limit\n",
    "plt.ylim(0, 0.1)\n",
    "plt.xlabel('Beta')\n",
    "plt.ylabel('Expected Return')\n",
    "plt.title('Expected Return based on CAPM')\n",
    "plt.show()\n"
   ]
  },
  {
   "cell_type": "code",
   "execution_count": null,
   "id": "4f22349a",
   "metadata": {},
   "outputs": [],
   "source": []
  },
  {
   "cell_type": "code",
   "execution_count": null,
   "id": "e15b1338",
   "metadata": {},
   "outputs": [],
   "source": []
  }
 ],
 "metadata": {
  "kernelspec": {
   "display_name": "quantlib",
   "language": "python",
   "name": "python3"
  },
  "language_info": {
   "codemirror_mode": {
    "name": "ipython",
    "version": 3
   },
   "file_extension": ".py",
   "mimetype": "text/x-python",
   "name": "python",
   "nbconvert_exporter": "python",
   "pygments_lexer": "ipython3",
   "version": "3.12.11"
  }
 },
 "nbformat": 4,
 "nbformat_minor": 5
}
